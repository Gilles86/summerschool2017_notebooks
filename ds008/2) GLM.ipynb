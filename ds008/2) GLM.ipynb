{
 "cells": [
  {
   "cell_type": "markdown",
   "metadata": {},
   "source": [
    "# GLM for DS008"
   ]
  },
  {
   "cell_type": "markdown",
   "metadata": {},
   "source": [
    "This is based on the famous stop-signal dataset of Adam Aron and was fetched from openfmri.\n",
    "\n",
    "See [ds008](https://openfmri.org/dataset/ds000008)"
   ]
  },
  {
   "cell_type": "code",
   "execution_count": 38,
   "metadata": {},
   "outputs": [
    {
     "name": "stdout",
     "output_type": "stream",
     "text": [
      "\u001b[01;34m/home/ubuntu/data/openfmri/ds008/\u001b[00m\r\n",
      "├── \u001b[01;34mderivatives\u001b[00m\r\n",
      "│   └── \u001b[01;34mfmriprep\u001b[00m\r\n",
      "│       ├── \u001b[01;34msub-01\u001b[00m\r\n",
      "│       │   ├── \u001b[01;34manat\u001b[00m\r\n",
      "│       │   └── \u001b[01;34mfunc\u001b[00m\r\n",
      "│       ├── \u001b[01;34msub-02\u001b[00m\r\n",
      "│       │   ├── \u001b[01;34manat\u001b[00m\r\n",
      "│       │   └── \u001b[01;34mfunc\u001b[00m\r\n",
      "│       ├── \u001b[01;34msub-03\u001b[00m\r\n",
      "│       │   ├── \u001b[01;34manat\u001b[00m\r\n",
      "│       │   └── \u001b[01;34mfunc\u001b[00m\r\n",
      "│       ├── \u001b[01;34msub-04\u001b[00m\r\n",
      "│       │   ├── \u001b[01;34manat\u001b[00m\r\n",
      "│       │   └── \u001b[01;34mfunc\u001b[00m\r\n",
      "│       ├── \u001b[01;34msub-05\u001b[00m\r\n",
      "│       │   ├── \u001b[01;34manat\u001b[00m\r\n",
      "│       │   └── \u001b[01;34mfunc\u001b[00m\r\n",
      "│       ├── \u001b[01;34msub-06\u001b[00m\r\n",
      "│       │   ├── \u001b[01;34manat\u001b[00m\r\n",
      "│       │   └── \u001b[01;34mfunc\u001b[00m\r\n",
      "│       ├── \u001b[01;34msub-07\u001b[00m\r\n",
      "│       │   ├── \u001b[01;34manat\u001b[00m\r\n",
      "│       │   └── \u001b[01;34mfunc\u001b[00m\r\n",
      "│       ├── \u001b[01;34msub-09\u001b[00m\r\n",
      "│       │   ├── \u001b[01;34manat\u001b[00m\r\n",
      "│       │   └── \u001b[01;34mfunc\u001b[00m\r\n",
      "│       ├── \u001b[01;34msub-10\u001b[00m\r\n",
      "│       │   ├── \u001b[01;34manat\u001b[00m\r\n",
      "│       │   └── \u001b[01;34mfunc\u001b[00m\r\n",
      "│       ├── \u001b[01;34msub-11\u001b[00m\r\n",
      "│       │   ├── \u001b[01;34manat\u001b[00m\r\n",
      "│       │   └── \u001b[01;34mfunc\u001b[00m\r\n",
      "│       ├── \u001b[01;34msub-12\u001b[00m\r\n",
      "│       │   ├── \u001b[01;34manat\u001b[00m\r\n",
      "│       │   └── \u001b[01;34mfunc\u001b[00m\r\n",
      "│       ├── \u001b[01;34msub-13\u001b[00m\r\n",
      "│       │   ├── \u001b[01;34manat\u001b[00m\r\n",
      "│       │   └── \u001b[01;34mfunc\u001b[00m\r\n",
      "│       ├── \u001b[01;34msub-14\u001b[00m\r\n",
      "│       │   ├── \u001b[01;34manat\u001b[00m\r\n",
      "│       │   └── \u001b[01;34mfunc\u001b[00m\r\n",
      "│       └── \u001b[01;34msub-15\u001b[00m\r\n",
      "│           ├── \u001b[01;34manat\u001b[00m\r\n",
      "│           └── \u001b[01;34mfunc\u001b[00m\r\n",
      "├── \u001b[01;34mfreesurfer\u001b[00m\r\n",
      "├── \u001b[01;34msub-01\u001b[00m\r\n",
      "│   ├── \u001b[01;34manat\u001b[00m\r\n",
      "│   └── \u001b[01;34mfunc\u001b[00m\r\n",
      "├── \u001b[01;34msub-02\u001b[00m\r\n",
      "│   ├── \u001b[01;34manat\u001b[00m\r\n",
      "│   └── \u001b[01;34mfunc\u001b[00m\r\n",
      "├── \u001b[01;34msub-03\u001b[00m\r\n",
      "│   ├── \u001b[01;34manat\u001b[00m\r\n",
      "│   └── \u001b[01;34mfunc\u001b[00m\r\n",
      "├── \u001b[01;34msub-04\u001b[00m\r\n",
      "│   ├── \u001b[01;34manat\u001b[00m\r\n",
      "│   └── \u001b[01;34mfunc\u001b[00m\r\n",
      "├── \u001b[01;34msub-05\u001b[00m\r\n",
      "│   ├── \u001b[01;34manat\u001b[00m\r\n",
      "│   └── \u001b[01;34mfunc\u001b[00m\r\n",
      "├── \u001b[01;34msub-06\u001b[00m\r\n",
      "│   ├── \u001b[01;34manat\u001b[00m\r\n",
      "│   └── \u001b[01;34mfunc\u001b[00m\r\n",
      "├── \u001b[01;34msub-07\u001b[00m\r\n",
      "│   ├── \u001b[01;34manat\u001b[00m\r\n",
      "│   └── \u001b[01;34mfunc\u001b[00m\r\n",
      "├── \u001b[01;34msub-09\u001b[00m\r\n",
      "│   ├── \u001b[01;34manat\u001b[00m\r\n",
      "│   └── \u001b[01;34mfunc\u001b[00m\r\n",
      "├── \u001b[01;34msub-10\u001b[00m\r\n",
      "│   ├── \u001b[01;34manat\u001b[00m\r\n",
      "│   └── \u001b[01;34mfunc\u001b[00m\r\n",
      "├── \u001b[01;34msub-11\u001b[00m\r\n",
      "│   ├── \u001b[01;34manat\u001b[00m\r\n",
      "│   └── \u001b[01;34mfunc\u001b[00m\r\n",
      "├── \u001b[01;34msub-12\u001b[00m\r\n",
      "│   ├── \u001b[01;34manat\u001b[00m\r\n",
      "│   └── \u001b[01;34mfunc\u001b[00m\r\n",
      "├── \u001b[01;34msub-13\u001b[00m\r\n",
      "│   ├── \u001b[01;34manat\u001b[00m\r\n",
      "│   └── \u001b[01;34mfunc\u001b[00m\r\n",
      "├── \u001b[01;34msub-14\u001b[00m\r\n",
      "│   ├── \u001b[01;34manat\u001b[00m\r\n",
      "│   └── \u001b[01;34mfunc\u001b[00m\r\n",
      "└── \u001b[01;34msub-15\u001b[00m\r\n",
      "    ├── \u001b[01;34manat\u001b[00m\r\n",
      "    └── \u001b[01;34mfunc\u001b[00m\r\n",
      "2 [error opening dir]\r\n",
      "\r\n",
      "87 directories\r\n"
     ]
    }
   ],
   "source": [
    "!tree /home/ubuntu/data/openfmri/ds008/ -d 2"
   ]
  },
  {
   "cell_type": "code",
   "execution_count": null,
   "metadata": {
    "collapsed": true
   },
   "outputs": [],
   "source": []
  }
 ],
 "metadata": {
  "kernelspec": {
   "display_name": "Python 2",
   "language": "python",
   "name": "python2"
  },
  "language_info": {
   "codemirror_mode": {
    "name": "ipython",
    "version": 2
   },
   "file_extension": ".py",
   "mimetype": "text/x-python",
   "name": "python",
   "nbconvert_exporter": "python",
   "pygments_lexer": "ipython2",
   "version": "2.7.13"
  }
 },
 "nbformat": 4,
 "nbformat_minor": 2
}
