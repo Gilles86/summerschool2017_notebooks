{
 "cells": [
  {
   "cell_type": "markdown",
   "metadata": {},
   "source": [
    "## Stop-signal dataset"
   ]
  },
  {
   "cell_type": "markdown",
   "metadata": {},
   "source": [
    "This is based on the famous stop-signal dataset of Adam Aron and was fetched from openfmri.\n",
    "\n",
    "See [ds008](https://openfmri.org/dataset/ds000008)\n",
    "\n",
    "Below we fit a model using the [stopsignal](https://github.com/twiecki/stopsignal/tree/master/stopsignal) Python-package, which underlies Dora Matzke's BEESTs-package.\n",
    "\n",
    "It's an easy way to fit a censoring race model of two exgausses. One corresponds to the Go-process. The other one corresponds to the Stop process. The mean of the Stop-process ExGauss is a nice estimate of the stop signal RT."
   ]
  },
  {
   "cell_type": "code",
   "execution_count": null,
   "metadata": {
    "collapsed": true
   },
   "outputs": [],
   "source": [
    "import stopsignal"
   ]
  },
  {
   "cell_type": "code",
   "execution_count": null,
   "metadata": {
    "collapsed": true
   },
   "outputs": [],
   "source": [
    "import re"
   ]
  },
  {
   "cell_type": "code",
   "execution_count": null,
   "metadata": {
    "collapsed": true
   },
   "outputs": [],
   "source": [
    "reg = re.compile('.*/sub-(?P<subj_idx>[0-9]+)/func/sub-[0-9]+_task-(?P<task>[a-z]+)_run-(?P<run>[0-9]+)_events.tsv')"
   ]
  },
  {
   "cell_type": "code",
   "execution_count": null,
   "metadata": {
    "collapsed": true
   },
   "outputs": [],
   "source": [
    "import glob\n",
    "import os"
   ]
  },
  {
   "cell_type": "code",
   "execution_count": null,
   "metadata": {
    "collapsed": true
   },
   "outputs": [],
   "source": [
    "fns = glob.glob(os.path.join(os.environ['HOME'], 'data/openfmri/ds008/sub*/func/sub-*_task-stopsignal_run-*_events.tsv'))"
   ]
  },
  {
   "cell_type": "code",
   "execution_count": null,
   "metadata": {
    "collapsed": true
   },
   "outputs": [],
   "source": [
    "import pandas"
   ]
  },
  {
   "cell_type": "code",
   "execution_count": null,
   "metadata": {
    "collapsed": true
   },
   "outputs": [],
   "source": [
    "dfs = []\n",
    "\n",
    "for fn in fns:\n",
    "    d = reg.match(fn).groupdict()\n",
    "    \n",
    "    dfs.append(pandas.read_csv(fn, sep='\\t', index_col=False,na_values=['n/a', 'junk']))\n",
    "    dfs[-1]['subj_idx'] = d['subj_idx']\n",
    "    dfs[-1]['run'] = d['run']\n",
    "    \n",
    "df = pandas.concat(dfs)"
   ]
  },
  {
   "cell_type": "code",
   "execution_count": null,
   "metadata": {
    "collapsed": true
   },
   "outputs": [],
   "source": [
    "df = df[~df.response_time.isnull() & (~df.trial_type.isnull())]"
   ]
  },
  {
   "cell_type": "code",
   "execution_count": null,
   "metadata": {},
   "outputs": [],
   "source": [
    "df[(df.subj_idx == 14) & (df.trial_type == '')]"
   ]
  },
  {
   "cell_type": "code",
   "execution_count": null,
   "metadata": {
    "collapsed": true
   },
   "outputs": [],
   "source": [
    "df['rt'] = df['response_time'] * 1000.\n",
    "df['ssd'] = (df['SSD']*1000)\n",
    "df.loc[(df.trial_type == 'go'), 'ssd'] = -999\n",
    "df['ssd'] = df.ssd.astype(int)\n",
    "df['inhibited'] = df.trial_type.map({'go':-999, 'failed stop':0, 'successful stop':1})\n",
    "df['ss_presented'] = df.trial_type.map({'go':0, 'failed stop':1, 'successful stop':1}).astype(int)"
   ]
  },
  {
   "cell_type": "code",
   "execution_count": null,
   "metadata": {},
   "outputs": [],
   "source": [
    "df.trial_type.unique()"
   ]
  },
  {
   "cell_type": "code",
   "execution_count": null,
   "metadata": {
    "collapsed": true
   },
   "outputs": [],
   "source": [
    "df = df[~((df.subj_idx == '14') & (df.rt > 500))]"
   ]
  },
  {
   "cell_type": "code",
   "execution_count": null,
   "metadata": {
    "collapsed": true
   },
   "outputs": [],
   "source": [
    "import seaborn as sns\n",
    "%matplotlib inline"
   ]
  },
  {
   "cell_type": "code",
   "execution_count": null,
   "metadata": {},
   "outputs": [],
   "source": [
    "sns.distplot(df[(df.subj_idx == '14')].rt)"
   ]
  },
  {
   "cell_type": "code",
   "execution_count": null,
   "metadata": {},
   "outputs": [],
   "source": [
    "df[(df.subj_idx == '14')].groupby(['trial_type', 'inhibited', 'ss_presented']).size()"
   ]
  },
  {
   "cell_type": "code",
   "execution_count": null,
   "metadata": {},
   "outputs": [],
   "source": [
    "df.groupby(['subj_idx', 'trial_type']).ssd.min()"
   ]
  },
  {
   "cell_type": "code",
   "execution_count": null,
   "metadata": {},
   "outputs": [],
   "source": [
    "df[(df.subj_idx == '14')][['rt', 'ssd', 'inhibited', 'ss_presented']].groupby(['ss_presented', 'inhibited']).mean()"
   ]
  },
  {
   "cell_type": "code",
   "execution_count": null,
   "metadata": {
    "collapsed": true
   },
   "outputs": [],
   "source": [
    "model = stopsignal.StopSignal(df)"
   ]
  },
  {
   "cell_type": "code",
   "execution_count": null,
   "metadata": {},
   "outputs": [],
   "source": [
    "model.sample(10000)"
   ]
  },
  {
   "cell_type": "code",
   "execution_count": null,
   "metadata": {
    "scrolled": false
   },
   "outputs": [],
   "source": [
    "model.plot_posteriors()"
   ]
  },
  {
   "cell_type": "code",
   "execution_count": null,
   "metadata": {
    "collapsed": true
   },
   "outputs": [],
   "source": [
    "subj_nodes = model.get_subj_nodes()\n",
    "subj_nodes = subj_nodes[subj_nodes.knode_name == 'mu_stop_subj']\n",
    "tmp = subj_nodes[['subj_idx', 'tag', 'node', 'mean']]"
   ]
  },
  {
   "cell_type": "code",
   "execution_count": null,
   "metadata": {},
   "outputs": [],
   "source": [
    "tmp.set_index('subj_idx')"
   ]
  },
  {
   "cell_type": "code",
   "execution_count": null,
   "metadata": {
    "collapsed": true
   },
   "outputs": [],
   "source": [
    "tmp.to_csv('ssrts.csv')"
   ]
  },
  {
   "cell_type": "code",
   "execution_count": null,
   "metadata": {
    "collapsed": true
   },
   "outputs": [],
   "source": [
    "subj_nodes = model.get_subj_nodes()\n",
    "subj_nodes = subj_nodes[subj_nodes.knode_name == 'mu_go_subj']\n",
    "tmp = subj_nodes[['subj_idx', 'tag', 'node', 'mean']]"
   ]
  },
  {
   "cell_type": "code",
   "execution_count": null,
   "metadata": {
    "collapsed": true
   },
   "outputs": [],
   "source": [
    "tmp.to_csv('mu_go.csv')"
   ]
  },
  {
   "cell_type": "code",
   "execution_count": null,
   "metadata": {
    "collapsed": true
   },
   "outputs": [],
   "source": []
  }
 ],
 "metadata": {
  "kernelspec": {
   "display_name": "Python 2",
   "language": "python",
   "name": "python2"
  },
  "language_info": {
   "codemirror_mode": {
    "name": "ipython",
    "version": 2
   },
   "file_extension": ".py",
   "mimetype": "text/x-python",
   "name": "python",
   "nbconvert_exporter": "python",
   "pygments_lexer": "ipython2",
   "version": "2.7.13"
  }
 },
 "nbformat": 4,
 "nbformat_minor": 2
}
