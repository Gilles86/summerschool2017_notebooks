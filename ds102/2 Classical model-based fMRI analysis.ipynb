{
 "cells": [
  {
   "cell_type": "markdown",
   "metadata": {},
   "source": [
    "[Nilearn](http://nilearn.github.io/) is a solid package for all kinds of MRI data mangling and includes very efficient MVPA API using sklearn\n",
    "\n",
    "\n",
    "[Nistats](https://github.com/nistats/nistats/) is a bit more experimental, but includes some very fast functions to do classical GLM analysis (MUCH faster than FSL)"
   ]
  },
  {
   "cell_type": "code",
   "execution_count": 1,
   "metadata": {
    "collapsed": true
   },
   "outputs": [],
   "source": [
    "import nilearn\n",
    "import nistats"
   ]
  },
  {
   "cell_type": "markdown",
   "metadata": {},
   "source": [
    "Let's write code for subject 01"
   ]
  },
  {
   "cell_type": "code",
   "execution_count": 2,
   "metadata": {
    "collapsed": true
   },
   "outputs": [],
   "source": [
    "subj_idx = '01'"
   ]
  },
  {
   "cell_type": "markdown",
   "metadata": {},
   "source": [
    "For many functions getting data we need the same path"
   ]
  },
  {
   "cell_type": "code",
   "execution_count": 3,
   "metadata": {
    "collapsed": true
   },
   "outputs": [],
   "source": [
    "import os"
   ]
  },
  {
   "cell_type": "code",
   "execution_count": 4,
   "metadata": {
    "collapsed": true
   },
   "outputs": [],
   "source": [
    "path = os.path.join(os.environ['HOME'], 'data/openfmri/ds102/derivatives/fmriprep/sub-{subj_idx}/func/sub-{subj_idx}_task-flankertask'.format(**locals()))"
   ]
  },
  {
   "cell_type": "markdown",
   "metadata": {},
   "source": [
    "(Makes use of a neat little trick illustrated below)"
   ]
  },
  {
   "cell_type": "code",
   "execution_count": 5,
   "metadata": {},
   "outputs": [
    {
     "name": "stdout",
     "output_type": "stream",
     "text": [
      "This is test. Say 2\n",
      "('test', 2)\n",
      "This is test. Say 2\n"
     ]
    }
   ],
   "source": [
    "a = 'test'\n",
    "b = 2\n",
    "\n",
    "string = 'This is {a}. Say {b}'.format(a=a, b=b)\n",
    "print(string)\n",
    "\n",
    "print(locals()['a'], locals()['b'])\n",
    "\n",
    "string = 'This is {a}. Say {b}'.format(**locals())\n",
    "print(string)"
   ]
  },
  {
   "cell_type": "markdown",
   "metadata": {},
   "source": [
    "Get all the necessary filenames for this subject"
   ]
  },
  {
   "cell_type": "code",
   "execution_count": 6,
   "metadata": {
    "collapsed": true
   },
   "outputs": [],
   "source": [
    "data = [path + '_run-01_bold_space-MNI152NLin2009cAsym_preproc.nii.gz',\n",
    "        path + '_run-02_bold_space-MNI152NLin2009cAsym_preproc.nii.gz']\n",
    "\n",
    "mask = path + '_run-01_bold_space-MNI152NLin2009cAsym_brainmask.nii.gz'\n",
    "\n",
    "confounds = [path+ '_run-01_bold_confounds.tsv',\n",
    "             path + '_run-02_bold_confounds.tsv']"
   ]
  },
  {
   "cell_type": "code",
   "execution_count": 7,
   "metadata": {
    "collapsed": true
   },
   "outputs": [],
   "source": [
    "# TR is 2 seconds\n",
    "t_r = 2.0"
   ]
  },
  {
   "cell_type": "markdown",
   "metadata": {},
   "source": [
    "## Set up first level model"
   ]
  },
  {
   "cell_type": "code",
   "execution_count": 8,
   "metadata": {
    "collapsed": true
   },
   "outputs": [],
   "source": [
    "from nistats.first_level_model import FirstLevelModel\n",
    "first_level_model = FirstLevelModel(t_r, hrf_model='glover + derivative', smoothing_fwhm=8.0, mask=mask)"
   ]
  },
  {
   "cell_type": "markdown",
   "metadata": {},
   "source": [
    "Let's write a little function that can extract onsets from .tsv-files using pandas"
   ]
  },
  {
   "cell_type": "code",
   "execution_count": 9,
   "metadata": {
    "collapsed": true
   },
   "outputs": [],
   "source": [
    "import pandas\n",
    "import numpy as np\n",
    "\n",
    "def get_onsets(subj_idx, run):\n",
    "    \n",
    "    path = os.environ['HOME'] + '/data/openfmri/ds102/'\n",
    "    fn = path + 'sub-{subj_idx}/func/sub-{subj_idx}_task-flankertask_run-{run}_events.tsv'.format(**locals())\n",
    "    df = pandas.read_csv(fn, sep='\\t')\n",
    "    \n",
    "    # Since many subjects do not have errors and we want the design matrices to be the same\n",
    "    # across subjects, we only look at correct trials\n",
    "    return df[np.in1d(df.trial_type, ['incongruent_correct', 'congruent_correct'])]\n",
    "    "
   ]
  },
  {
   "cell_type": "code",
   "execution_count": 10,
   "metadata": {},
   "outputs": [
    {
     "data": {
      "text/html": [
       "<div>\n",
       "<style>\n",
       "    .dataframe thead tr:only-child th {\n",
       "        text-align: right;\n",
       "    }\n",
       "\n",
       "    .dataframe thead th {\n",
       "        text-align: left;\n",
       "    }\n",
       "\n",
       "    .dataframe tbody tr th {\n",
       "        vertical-align: top;\n",
       "    }\n",
       "</style>\n",
       "<table border=\"1\" class=\"dataframe\">\n",
       "  <thead>\n",
       "    <tr style=\"text-align: right;\">\n",
       "      <th></th>\n",
       "      <th>onset</th>\n",
       "      <th>duration</th>\n",
       "      <th>trial_type</th>\n",
       "      <th>congruent_incorrect</th>\n",
       "      <th>incongruent_incorrect</th>\n",
       "      <th>Rsponse</th>\n",
       "      <th>StimVar</th>\n",
       "      <th>Stimulus</th>\n",
       "      <th>ResponseTime</th>\n",
       "    </tr>\n",
       "  </thead>\n",
       "  <tbody>\n",
       "    <tr>\n",
       "      <th>0</th>\n",
       "      <td>0.0</td>\n",
       "      <td>2.0</td>\n",
       "      <td>incongruent_correct</td>\n",
       "      <td>n/a</td>\n",
       "      <td>n/a</td>\n",
       "      <td>1</td>\n",
       "      <td>2</td>\n",
       "      <td>incongruent</td>\n",
       "      <td>889</td>\n",
       "    </tr>\n",
       "    <tr>\n",
       "      <th>1</th>\n",
       "      <td>10.0</td>\n",
       "      <td>2.0</td>\n",
       "      <td>congruent_correct</td>\n",
       "      <td>n/a</td>\n",
       "      <td>n/a</td>\n",
       "      <td>1</td>\n",
       "      <td>1</td>\n",
       "      <td>congruent</td>\n",
       "      <td>773</td>\n",
       "    </tr>\n",
       "    <tr>\n",
       "      <th>2</th>\n",
       "      <td>20.0</td>\n",
       "      <td>2.0</td>\n",
       "      <td>incongruent_correct</td>\n",
       "      <td>n/a</td>\n",
       "      <td>n/a</td>\n",
       "      <td>1</td>\n",
       "      <td>2</td>\n",
       "      <td>incongruent</td>\n",
       "      <td>897</td>\n",
       "    </tr>\n",
       "    <tr>\n",
       "      <th>3</th>\n",
       "      <td>30.0</td>\n",
       "      <td>2.0</td>\n",
       "      <td>congruent_correct</td>\n",
       "      <td>n/a</td>\n",
       "      <td>n/a</td>\n",
       "      <td>1</td>\n",
       "      <td>1</td>\n",
       "      <td>congruent</td>\n",
       "      <td>587</td>\n",
       "    </tr>\n",
       "    <tr>\n",
       "      <th>4</th>\n",
       "      <td>40.0</td>\n",
       "      <td>2.0</td>\n",
       "      <td>incongruent_correct</td>\n",
       "      <td>n/a</td>\n",
       "      <td>n/a</td>\n",
       "      <td>1</td>\n",
       "      <td>2</td>\n",
       "      <td>incongruent</td>\n",
       "      <td>711</td>\n",
       "    </tr>\n",
       "    <tr>\n",
       "      <th>5</th>\n",
       "      <td>52.0</td>\n",
       "      <td>2.0</td>\n",
       "      <td>incongruent_correct</td>\n",
       "      <td>n/a</td>\n",
       "      <td>n/a</td>\n",
       "      <td>1</td>\n",
       "      <td>2</td>\n",
       "      <td>incongruent</td>\n",
       "      <td>756</td>\n",
       "    </tr>\n",
       "    <tr>\n",
       "      <th>6</th>\n",
       "      <td>64.0</td>\n",
       "      <td>2.0</td>\n",
       "      <td>congruent_correct</td>\n",
       "      <td>n/a</td>\n",
       "      <td>n/a</td>\n",
       "      <td>1</td>\n",
       "      <td>1</td>\n",
       "      <td>congruent</td>\n",
       "      <td>581</td>\n",
       "    </tr>\n",
       "    <tr>\n",
       "      <th>7</th>\n",
       "      <td>76.0</td>\n",
       "      <td>2.0</td>\n",
       "      <td>congruent_correct</td>\n",
       "      <td>n/a</td>\n",
       "      <td>n/a</td>\n",
       "      <td>1</td>\n",
       "      <td>1</td>\n",
       "      <td>congruent</td>\n",
       "      <td>1216</td>\n",
       "    </tr>\n",
       "    <tr>\n",
       "      <th>8</th>\n",
       "      <td>88.0</td>\n",
       "      <td>2.0</td>\n",
       "      <td>congruent_correct</td>\n",
       "      <td>n/a</td>\n",
       "      <td>n/a</td>\n",
       "      <td>1</td>\n",
       "      <td>1</td>\n",
       "      <td>congruent</td>\n",
       "      <td>587</td>\n",
       "    </tr>\n",
       "    <tr>\n",
       "      <th>9</th>\n",
       "      <td>102.0</td>\n",
       "      <td>2.0</td>\n",
       "      <td>congruent_correct</td>\n",
       "      <td>n/a</td>\n",
       "      <td>n/a</td>\n",
       "      <td>1</td>\n",
       "      <td>1</td>\n",
       "      <td>congruent</td>\n",
       "      <td>541</td>\n",
       "    </tr>\n",
       "    <tr>\n",
       "      <th>10</th>\n",
       "      <td>116.0</td>\n",
       "      <td>2.0</td>\n",
       "      <td>congruent_correct</td>\n",
       "      <td>n/a</td>\n",
       "      <td>n/a</td>\n",
       "      <td>1</td>\n",
       "      <td>1</td>\n",
       "      <td>congruent</td>\n",
       "      <td>446</td>\n",
       "    </tr>\n",
       "    <tr>\n",
       "      <th>11</th>\n",
       "      <td>126.0</td>\n",
       "      <td>2.0</td>\n",
       "      <td>congruent_correct</td>\n",
       "      <td>n/a</td>\n",
       "      <td>n/a</td>\n",
       "      <td>1</td>\n",
       "      <td>1</td>\n",
       "      <td>congruent</td>\n",
       "      <td>490</td>\n",
       "    </tr>\n",
       "    <tr>\n",
       "      <th>12</th>\n",
       "      <td>136.0</td>\n",
       "      <td>2.0</td>\n",
       "      <td>incongruent_correct</td>\n",
       "      <td>n/a</td>\n",
       "      <td>n/a</td>\n",
       "      <td>1</td>\n",
       "      <td>2</td>\n",
       "      <td>incongruent</td>\n",
       "      <td>862</td>\n",
       "    </tr>\n",
       "    <tr>\n",
       "      <th>13</th>\n",
       "      <td>150.0</td>\n",
       "      <td>2.0</td>\n",
       "      <td>incongruent_correct</td>\n",
       "      <td>n/a</td>\n",
       "      <td>n/a</td>\n",
       "      <td>1</td>\n",
       "      <td>2</td>\n",
       "      <td>incongruent</td>\n",
       "      <td>651</td>\n",
       "    </tr>\n",
       "    <tr>\n",
       "      <th>14</th>\n",
       "      <td>164.0</td>\n",
       "      <td>2.0</td>\n",
       "      <td>incongruent_correct</td>\n",
       "      <td>n/a</td>\n",
       "      <td>n/a</td>\n",
       "      <td>1</td>\n",
       "      <td>2</td>\n",
       "      <td>incongruent</td>\n",
       "      <td>690</td>\n",
       "    </tr>\n",
       "    <tr>\n",
       "      <th>15</th>\n",
       "      <td>174.0</td>\n",
       "      <td>2.0</td>\n",
       "      <td>incongruent_correct</td>\n",
       "      <td>n/a</td>\n",
       "      <td>n/a</td>\n",
       "      <td>1</td>\n",
       "      <td>2</td>\n",
       "      <td>incongruent</td>\n",
       "      <td>694</td>\n",
       "    </tr>\n",
       "    <tr>\n",
       "      <th>16</th>\n",
       "      <td>184.0</td>\n",
       "      <td>2.0</td>\n",
       "      <td>incongruent_correct</td>\n",
       "      <td>n/a</td>\n",
       "      <td>n/a</td>\n",
       "      <td>1</td>\n",
       "      <td>2</td>\n",
       "      <td>incongruent</td>\n",
       "      <td>1186</td>\n",
       "    </tr>\n",
       "    <tr>\n",
       "      <th>17</th>\n",
       "      <td>196.0</td>\n",
       "      <td>2.0</td>\n",
       "      <td>incongruent_correct</td>\n",
       "      <td>n/a</td>\n",
       "      <td>n/a</td>\n",
       "      <td>1</td>\n",
       "      <td>2</td>\n",
       "      <td>incongruent</td>\n",
       "      <td>876</td>\n",
       "    </tr>\n",
       "    <tr>\n",
       "      <th>18</th>\n",
       "      <td>208.0</td>\n",
       "      <td>2.0</td>\n",
       "      <td>congruent_correct</td>\n",
       "      <td>n/a</td>\n",
       "      <td>n/a</td>\n",
       "      <td>1</td>\n",
       "      <td>1</td>\n",
       "      <td>congruent</td>\n",
       "      <td>535</td>\n",
       "    </tr>\n",
       "    <tr>\n",
       "      <th>19</th>\n",
       "      <td>220.0</td>\n",
       "      <td>2.0</td>\n",
       "      <td>incongruent_correct</td>\n",
       "      <td>n/a</td>\n",
       "      <td>n/a</td>\n",
       "      <td>1</td>\n",
       "      <td>2</td>\n",
       "      <td>incongruent</td>\n",
       "      <td>689</td>\n",
       "    </tr>\n",
       "    <tr>\n",
       "      <th>20</th>\n",
       "      <td>234.0</td>\n",
       "      <td>2.0</td>\n",
       "      <td>incongruent_correct</td>\n",
       "      <td>n/a</td>\n",
       "      <td>n/a</td>\n",
       "      <td>1</td>\n",
       "      <td>2</td>\n",
       "      <td>incongruent</td>\n",
       "      <td>828</td>\n",
       "    </tr>\n",
       "    <tr>\n",
       "      <th>21</th>\n",
       "      <td>248.0</td>\n",
       "      <td>2.0</td>\n",
       "      <td>congruent_correct</td>\n",
       "      <td>n/a</td>\n",
       "      <td>n/a</td>\n",
       "      <td>1</td>\n",
       "      <td>1</td>\n",
       "      <td>congruent</td>\n",
       "      <td>550</td>\n",
       "    </tr>\n",
       "    <tr>\n",
       "      <th>22</th>\n",
       "      <td>260.0</td>\n",
       "      <td>2.0</td>\n",
       "      <td>congruent_correct</td>\n",
       "      <td>n/a</td>\n",
       "      <td>n/a</td>\n",
       "      <td>1</td>\n",
       "      <td>1</td>\n",
       "      <td>congruent</td>\n",
       "      <td>801</td>\n",
       "    </tr>\n",
       "    <tr>\n",
       "      <th>23</th>\n",
       "      <td>274.0</td>\n",
       "      <td>2.0</td>\n",
       "      <td>congruent_correct</td>\n",
       "      <td>n/a</td>\n",
       "      <td>n/a</td>\n",
       "      <td>1</td>\n",
       "      <td>1</td>\n",
       "      <td>congruent</td>\n",
       "      <td>450</td>\n",
       "    </tr>\n",
       "  </tbody>\n",
       "</table>\n",
       "</div>"
      ],
      "text/plain": [
       "    onset  duration           trial_type congruent_incorrect  \\\n",
       "0     0.0       2.0  incongruent_correct                 n/a   \n",
       "1    10.0       2.0    congruent_correct                 n/a   \n",
       "2    20.0       2.0  incongruent_correct                 n/a   \n",
       "3    30.0       2.0    congruent_correct                 n/a   \n",
       "4    40.0       2.0  incongruent_correct                 n/a   \n",
       "5    52.0       2.0  incongruent_correct                 n/a   \n",
       "6    64.0       2.0    congruent_correct                 n/a   \n",
       "7    76.0       2.0    congruent_correct                 n/a   \n",
       "8    88.0       2.0    congruent_correct                 n/a   \n",
       "9   102.0       2.0    congruent_correct                 n/a   \n",
       "10  116.0       2.0    congruent_correct                 n/a   \n",
       "11  126.0       2.0    congruent_correct                 n/a   \n",
       "12  136.0       2.0  incongruent_correct                 n/a   \n",
       "13  150.0       2.0  incongruent_correct                 n/a   \n",
       "14  164.0       2.0  incongruent_correct                 n/a   \n",
       "15  174.0       2.0  incongruent_correct                 n/a   \n",
       "16  184.0       2.0  incongruent_correct                 n/a   \n",
       "17  196.0       2.0  incongruent_correct                 n/a   \n",
       "18  208.0       2.0    congruent_correct                 n/a   \n",
       "19  220.0       2.0  incongruent_correct                 n/a   \n",
       "20  234.0       2.0  incongruent_correct                 n/a   \n",
       "21  248.0       2.0    congruent_correct                 n/a   \n",
       "22  260.0       2.0    congruent_correct                 n/a   \n",
       "23  274.0       2.0    congruent_correct                 n/a   \n",
       "\n",
       "   incongruent_incorrect  Rsponse  StimVar      Stimulus  ResponseTime  \n",
       "0                    n/a        1        2   incongruent           889  \n",
       "1                    n/a        1        1     congruent           773  \n",
       "2                    n/a        1        2   incongruent           897  \n",
       "3                    n/a        1        1     congruent           587  \n",
       "4                    n/a        1        2   incongruent           711  \n",
       "5                    n/a        1        2   incongruent           756  \n",
       "6                    n/a        1        1     congruent           581  \n",
       "7                    n/a        1        1     congruent          1216  \n",
       "8                    n/a        1        1     congruent           587  \n",
       "9                    n/a        1        1     congruent           541  \n",
       "10                   n/a        1        1     congruent           446  \n",
       "11                   n/a        1        1     congruent           490  \n",
       "12                   n/a        1        2   incongruent           862  \n",
       "13                   n/a        1        2   incongruent           651  \n",
       "14                   n/a        1        2   incongruent           690  \n",
       "15                   n/a        1        2   incongruent           694  \n",
       "16                   n/a        1        2   incongruent          1186  \n",
       "17                   n/a        1        2   incongruent           876  \n",
       "18                   n/a        1        1     congruent           535  \n",
       "19                   n/a        1        2   incongruent           689  \n",
       "20                   n/a        1        2   incongruent           828  \n",
       "21                   n/a        1        1     congruent           550  \n",
       "22                   n/a        1        1     congruent           801  \n",
       "23                   n/a        1        1     congruent           450  "
      ]
     },
     "execution_count": 10,
     "metadata": {},
     "output_type": "execute_result"
    }
   ],
   "source": [
    "get_onsets('03', '01')"
   ]
  },
  {
   "cell_type": "markdown",
   "metadata": {},
   "source": [
    "Now make a list of onsets for the two runs of our subject"
   ]
  },
  {
   "cell_type": "code",
   "execution_count": 11,
   "metadata": {
    "collapsed": true
   },
   "outputs": [],
   "source": [
    "paradigm = [get_onsets(subj_idx, '01'), get_onsets(subj_idx, '02')]"
   ]
  },
  {
   "cell_type": "markdown",
   "metadata": {},
   "source": [
    "And fit a first level model!"
   ]
  },
  {
   "cell_type": "code",
   "execution_count": 12,
   "metadata": {},
   "outputs": [
    {
     "data": {
      "text/plain": [
       "FirstLevelModel(drift_model='cosine', drift_order=1, fir_delays=[0],\n",
       "        hrf_model='glover + derivative',\n",
       "        mask='/home/ubuntu/data/openfmri/ds102/derivatives/fmriprep/sub-01/func/sub-01_task-flankertask_run-01_bold_space-MNI152NLin2009cAsym_brainmask.nii.gz',\n",
       "        memory=Memory(cachedir=None), memory_level=1, min_onset=-24,\n",
       "        minimize_memory=True, n_jobs=1, noise_model='ar1', period_cut=128,\n",
       "        signal_scaling=True, slice_time_ref=0.0, smoothing_fwhm=8.0,\n",
       "        standardize=False, subject_label=None, t_r=2.0, target_affine=None,\n",
       "        target_shape=None, verbose=0)"
      ]
     },
     "execution_count": 12,
     "metadata": {},
     "output_type": "execute_result"
    }
   ],
   "source": [
    "first_level_model.fit(data, paradigm, confounds=confounds)"
   ]
  },
  {
   "cell_type": "markdown",
   "metadata": {},
   "source": [
    "Now the model is fitted, we can compute a contrast"
   ]
  },
  {
   "cell_type": "code",
   "execution_count": 13,
   "metadata": {},
   "outputs": [
    {
     "name": "stderr",
     "output_type": "stream",
     "text": [
      "/home/ubuntu/miniconda2/lib/python2.7/site-packages/nistats/first_level_model.py:545: UserWarning: One contrast given, assuming it for all 2 runs\n",
      "  warn('One contrast given, assuming it for all %d runs' % n_runs)\n"
     ]
    }
   ],
   "source": [
    "zmap = first_level_model.compute_contrast('incongruent_correct - congruent_correct')"
   ]
  },
  {
   "cell_type": "code",
   "execution_count": 14,
   "metadata": {
    "collapsed": true
   },
   "outputs": [],
   "source": [
    "from nilearn import plotting\n",
    "%matplotlib inline"
   ]
  },
  {
   "cell_type": "markdown",
   "metadata": {},
   "source": [
    "Apparently the striatum and cerebellum is involved in incongruent vs congruent trials, at least for this guy"
   ]
  },
  {
   "cell_type": "code",
   "execution_count": null,
   "metadata": {},
   "outputs": [
    {
     "name": "stderr",
     "output_type": "stream",
     "text": [
      "/home/ubuntu/miniconda2/lib/python2.7/site-packages/matplotlib/cbook.py:136: MatplotlibDeprecationWarning: The axisbg attribute was deprecated in version 2.0. Use facecolor instead.\n",
      "  warnings.warn(message, mplDeprecation, stacklevel=1)\n",
      "/home/ubuntu/miniconda2/lib/python2.7/site-packages/matplotlib/artist.py:879: MatplotlibDeprecationWarning: The set_axis_bgcolor function was deprecated in version 2.0. Use set_facecolor instead.\n",
      "  return func(v)\n"
     ]
    },
    {
     "data": {
      "text/plain": [
       "<nilearn.plotting.displays.OrthoSlicer at 0x7f9a97099b50>"
      ]
     },
     "execution_count": 15,
     "metadata": {},
     "output_type": "execute_result"
    },
    {
     "data": {
      "image/png": "[encoded data removed]",
      "text/plain": [
       "<matplotlib.figure.Figure at 0x7f9aa4439d10>"
      ]
     },
     "metadata": {},
     "output_type": "display_data"
    }
   ],
   "source": [
    "nilearn.plotting.plot_stat_map(zmap, threshold=2.6)"
   ]
  },
  {
   "cell_type": "markdown",
   "metadata": {},
   "source": [
    "## Do first-level analysis for all 26 subjects"
   ]
  },
  {
   "cell_type": "code",
   "execution_count": null,
   "metadata": {
    "scrolled": false
   },
   "outputs": [
    {
     "name": "stdout",
     "output_type": "stream",
     "text": [
      "Subject 01\n",
      "Subject 02\n",
      "Subject 03\n",
      "Subject 04\n",
      "Subject 05\n",
      "Subject 06\n",
      "Subject 07\n",
      "Subject 08\n",
      "Subject 09\n",
      "Subject 10\n",
      "Subject 11\n",
      "Subject 12\n",
      "Subject 13\n",
      "Subject 14\n",
      "Subject 15\n",
      "Subject 16\n",
      "Subject 17\n",
      "Subject 18\n",
      "Subject 19\n",
      "Subject 20\n",
      "Subject 21\n"
     ]
    },
    {
     "name": "stderr",
     "output_type": "stream",
     "text": [
      "/home/ubuntu/miniconda2/lib/python2.7/site-packages/matplotlib/pyplot.py:524: RuntimeWarning: More than 20 figures have been opened. Figures created through the pyplot interface (`matplotlib.pyplot.figure`) are retained until explicitly closed and may consume too much memory. (To control this warning, see the rcParam `figure.max_open_warning`).\n",
      "  max_open_warning, RuntimeWarning)\n"
     ]
    },
    {
     "name": "stdout",
     "output_type": "stream",
     "text": [
      "Subject 22\n",
      "Subject 23\n",
      "Subject 24\n",
      "Subject 25\n",
      "Subject 26\n"
     ]
    }
   ],
   "source": [
    "# Make an empty list to put fitted first level models in\n",
    "models = []\n",
    "\n",
    "for subj_idx in ['%02d' % i for i in range(1, 27)]:\n",
    "\n",
    "    print(\"Subject %s\" % subj_idx)\n",
    "\n",
    "    # set up path\n",
    "    path = os.path.join(os.environ['HOME'], 'data/openfmri/ds102/derivatives/fmriprep/sub-{subj_idx}/func/sub-{subj_idx}_task-flankertask'.format(**locals()))\n",
    "\n",
    "    # Set up filenames\n",
    "    data = [path + '_run-01_bold_space-MNI152NLin2009cAsym_preproc.nii.gz',\n",
    "            path + '_run-02_bold_space-MNI152NLin2009cAsym_preproc.nii.gz']\n",
    "\n",
    "    mask = path + '_run-01_bold_space-MNI152NLin2009cAsym_brainmask.nii.gz'\n",
    "\n",
    "    confounds = [path+ '_run-01_bold_confounds.tsv',\n",
    "                 path + '_run-02_bold_confounds.tsv']\n",
    "\n",
    "    \n",
    "    # Get paradigms\n",
    "    paradigm = [get_onsets(subj_idx, '01'), get_onsets(subj_idx, '02')]\n",
    "    \n",
    "    # Set up model, we have to give:\n",
    "    # * the TR (time it takes to acquire one functional volume)\n",
    "    # * The HRF-model (we use a standard double-gamma model + derivative)\n",
    "    # * The amount of smoothing (we use ample, 8.0 mm)\n",
    "    # * The mask (Saves time, we do not estimate models outside of the brain)\n",
    "    first_level_model = FirstLevelModel(t_r, hrf_model='glover + derivative', smoothing_fwhm=8.0, mask=mask)\n",
    "    \n",
    "    # Fit model, including all confounds (motion parameters, tcompcorr, etc.)\n",
    "    first_level_model.fit(data, paradigm, confounds=confounds,)\n",
    "    \n",
    "    # Compute contrast incongruent > congruent\n",
    "    zmap = first_level_model.compute_contrast('incongruent_correct - congruent_correct')\n",
    "    \n",
    "    # Plot resulting zmap, with (arbitrary but stringent) threshold at 2.6\n",
    "    nilearn.plotting.plot_stat_map(zmap, threshold=2.6)\n",
    "\n",
    "    \n",
    "    # make list of models and subjects that we processed\n",
    "    models.append(first_level_model)"
   ]
  },
  {
   "cell_type": "markdown",
   "metadata": {},
   "source": [
    "# Second level (group) analysis"
   ]
  },
  {
   "cell_type": "markdown",
   "metadata": {},
   "source": [
    "## Classical"
   ]
  },
  {
   "cell_type": "code",
   "execution_count": null,
   "metadata": {
    "collapsed": true
   },
   "outputs": [],
   "source": [
    "contrasts = [model.compute_contrast('incongruent_correct - congruent_correct') for model in models]"
   ]
  },
  {
   "cell_type": "code",
   "execution_count": null,
   "metadata": {
    "collapsed": true
   },
   "outputs": [],
   "source": [
    "design_matrix = pandas.DataFrame({'intercept':np.ones(len(contrasts))},\n",
    "                                 index=np.arange(1, 27))"
   ]
  },
  {
   "cell_type": "code",
   "execution_count": null,
   "metadata": {},
   "outputs": [],
   "source": [
    "design_matrix"
   ]
  },
  {
   "cell_type": "code",
   "execution_count": null,
   "metadata": {
    "collapsed": true
   },
   "outputs": [],
   "source": [
    "from nistats.second_level_model import SecondLevelModel\n",
    "second_level_model = SecondLevelModel(smoothing_fwhm=0.0)\n",
    "second_level_model = second_level_model.fit(contrasts, design_matrix=design_matrix)\n",
    "z_map = second_level_model.compute_contrast('intercept')"
   ]
  },
  {
   "cell_type": "code",
   "execution_count": null,
   "metadata": {},
   "outputs": [],
   "source": [
    "plotting.plot_stat_map(z_map, threshold=3.1 )"
   ]
  },
  {
   "cell_type": "code",
   "execution_count": null,
   "metadata": {
    "collapsed": true
   },
   "outputs": [],
   "source": [
    "z_map.to_filename('zmap.nii.gz')"
   ]
  },
  {
   "cell_type": "code",
   "execution_count": null,
   "metadata": {},
   "outputs": [],
   "source": [
    "from IPython.display import FileLink\n",
    "FileLink('zmap.nii.gz')"
   ]
  },
  {
   "cell_type": "markdown",
   "metadata": {},
   "source": [
    "## Model-based"
   ]
  },
  {
   "cell_type": "code",
   "execution_count": null,
   "metadata": {
    "collapsed": true
   },
   "outputs": [],
   "source": [
    "drift_rates = pandas.read_csv('drift_rates.csv')"
   ]
  },
  {
   "cell_type": "code",
   "execution_count": null,
   "metadata": {},
   "outputs": [],
   "source": [
    "drift_rates.head()"
   ]
  },
  {
   "cell_type": "code",
   "execution_count": null,
   "metadata": {
    "collapsed": true
   },
   "outputs": [],
   "source": [
    "design_matrix = pandas.DataFrame({'intercept':np.ones(len(contrasts))})\n",
    "design_matrix['drift_difference'] = drift_rates['congruent'] - drift_rates['incongruent']\n",
    "design_matrix['drift_difference'] -= design_matrix['drift_difference'].mean()"
   ]
  },
  {
   "cell_type": "code",
   "execution_count": null,
   "metadata": {},
   "outputs": [],
   "source": [
    "# Do not smooth again\n",
    "second_level_model = SecondLevelModel(smoothing_fwhm=0.0)\n",
    "second_level_model = second_level_model.fit(contrasts, design_matrix=design_matrix)\n",
    "z_map = second_level_model.compute_contrast('drift_difference')\n",
    "z_map.to_filename('zmap_drift_difference.nii.gz')\n",
    "\n",
    "FileLink('zmap_drift_difference.nii.gz')"
   ]
  },
  {
   "cell_type": "code",
   "execution_count": null,
   "metadata": {},
   "outputs": [],
   "source": [
    "plotting.plot_stat_map(z_map, threshold=2.3 )"
   ]
  },
  {
   "cell_type": "code",
   "execution_count": null,
   "metadata": {},
   "outputs": [],
   "source": [
    "z_map = second_level_model.compute_contrast('intercept')\n",
    "plotting.plot_stat_map(z_map, threshold=2.3 )\n",
    "z_map.to_filename('zmap_modelbased.nii.gz')\n",
    "from IPython.display import FileLink\n",
    "FileLink('zmap_modelbased.nii.gz')"
   ]
  },
  {
   "cell_type": "code",
   "execution_count": null,
   "metadata": {
    "collapsed": true
   },
   "outputs": [],
   "source": []
  },
  {
   "cell_type": "code",
   "execution_count": null,
   "metadata": {
    "collapsed": true
   },
   "outputs": [],
   "source": []
  }
 ],
 "metadata": {
  "kernelspec": {
   "display_name": "Python 2",
   "language": "python",
   "name": "python2"
  },
  "language_info": {
   "codemirror_mode": {
    "name": "ipython",
    "version": 2
   },
   "file_extension": ".py",
   "mimetype": "text/x-python",
   "name": "python",
   "nbconvert_exporter": "python",
   "pygments_lexer": "ipython2",
   "version": "2.7.13"
  }
 },
 "nbformat": 4,
 "nbformat_minor": 2
}
